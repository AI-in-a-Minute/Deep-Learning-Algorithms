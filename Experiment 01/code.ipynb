{
 "cells": [
  {
   "cell_type": "markdown",
   "id": "ebc217d1",
   "metadata": {},
   "source": [
    "Numpy"
   ]
  },
  {
   "cell_type": "code",
   "execution_count": 2,
   "id": "3dcddec0",
   "metadata": {},
   "outputs": [
    {
     "name": "stdout",
     "output_type": "stream",
     "text": [
      "Defaulting to user installation because normal site-packages is not writeable\n",
      "Requirement already satisfied: numpy in c:\\users\\aksha\\appdata\\local\\packages\\pythonsoftwarefoundation.python.3.13_qbz5n2kfra8p0\\localcache\\local-packages\\python313\\site-packages (2.2.6)\n",
      "Note: you may need to restart the kernel to use updated packages.\n"
     ]
    }
   ],
   "source": [
    "# install\n",
    "%pip install numpy"
   ]
  },
  {
   "cell_type": "code",
   "execution_count": 3,
   "id": "95139da8",
   "metadata": {},
   "outputs": [
    {
     "name": "stdout",
     "output_type": "stream",
     "text": [
      "NumPy version: 2.2.6\n"
     ]
    }
   ],
   "source": [
    "# Import & Version\n",
    "import numpy as np\n",
    "print(\"NumPy version:\", np.__version__)"
   ]
  },
  {
   "cell_type": "code",
   "execution_count": 4,
   "id": "3c426048",
   "metadata": {},
   "outputs": [
    {
     "name": "stdout",
     "output_type": "stream",
     "text": [
      "Array + 1: [2 3 4]\n"
     ]
    }
   ],
   "source": [
    "# Basic Operation\n",
    "arr = np.array([1, 2, 3])\n",
    "print(\"Array + 1:\", arr + 1)"
   ]
  },
  {
   "cell_type": "markdown",
   "id": "73061541",
   "metadata": {},
   "source": [
    "Pandas"
   ]
  },
  {
   "cell_type": "code",
   "execution_count": 5,
   "id": "42cd2687",
   "metadata": {},
   "outputs": [
    {
     "name": "stdout",
     "output_type": "stream",
     "text": [
      "Defaulting to user installation because normal site-packages is not writeable\n",
      "Collecting pandas\n",
      "  Downloading pandas-2.3.0-cp313-cp313-win_amd64.whl.metadata (19 kB)\n",
      "Requirement already satisfied: numpy>=1.26.0 in c:\\users\\aksha\\appdata\\local\\packages\\pythonsoftwarefoundation.python.3.13_qbz5n2kfra8p0\\localcache\\local-packages\\python313\\site-packages (from pandas) (2.2.6)\n",
      "Requirement already satisfied: python-dateutil>=2.8.2 in c:\\users\\aksha\\appdata\\local\\packages\\pythonsoftwarefoundation.python.3.13_qbz5n2kfra8p0\\localcache\\local-packages\\python313\\site-packages (from pandas) (2.9.0.post0)\n",
      "Collecting pytz>=2020.1 (from pandas)\n",
      "  Downloading pytz-2025.2-py2.py3-none-any.whl.metadata (22 kB)\n",
      "Collecting tzdata>=2022.7 (from pandas)\n",
      "  Downloading tzdata-2025.2-py2.py3-none-any.whl.metadata (1.4 kB)\n",
      "Requirement already satisfied: six>=1.5 in c:\\users\\aksha\\appdata\\local\\packages\\pythonsoftwarefoundation.python.3.13_qbz5n2kfra8p0\\localcache\\local-packages\\python313\\site-packages (from python-dateutil>=2.8.2->pandas) (1.17.0)\n",
      "Downloading pandas-2.3.0-cp313-cp313-win_amd64.whl (11.0 MB)\n",
      "   ---------------------------------------- 0.0/11.0 MB ? eta -:--:--\n",
      "   ---------------------------------------- 0.0/11.0 MB ? eta -:--:--\n",
      "    --------------------------------------- 0.3/11.0 MB ? eta -:--:--\n",
      "   -- ------------------------------------- 0.8/11.0 MB 1.9 MB/s eta 0:00:06\n",
      "   ----- ---------------------------------- 1.6/11.0 MB 2.4 MB/s eta 0:00:04\n",
      "   --------- ------------------------------ 2.6/11.0 MB 3.0 MB/s eta 0:00:03\n",
      "   ----------- ---------------------------- 3.1/11.0 MB 3.3 MB/s eta 0:00:03\n",
      "   ------------- -------------------------- 3.7/11.0 MB 3.0 MB/s eta 0:00:03\n",
      "   -------------- ------------------------- 3.9/11.0 MB 2.8 MB/s eta 0:00:03\n",
      "   ---------------- ----------------------- 4.5/11.0 MB 2.7 MB/s eta 0:00:03\n",
      "   ------------------ --------------------- 5.0/11.0 MB 2.6 MB/s eta 0:00:03\n",
      "   -------------------- ------------------- 5.5/11.0 MB 2.6 MB/s eta 0:00:03\n",
      "   --------------------- ------------------ 6.0/11.0 MB 2.6 MB/s eta 0:00:02\n",
      "   ----------------------- ---------------- 6.6/11.0 MB 2.6 MB/s eta 0:00:02\n",
      "   -------------------------- ------------- 7.3/11.0 MB 2.6 MB/s eta 0:00:02\n",
      "   --------------------------- ------------ 7.6/11.0 MB 2.6 MB/s eta 0:00:02\n",
      "   ----------------------------- ---------- 8.1/11.0 MB 2.6 MB/s eta 0:00:02\n",
      "   -------------------------------- ------- 8.9/11.0 MB 2.6 MB/s eta 0:00:01\n",
      "   --------------------------------- ------ 9.2/11.0 MB 2.6 MB/s eta 0:00:01\n",
      "   ----------------------------------- ---- 9.7/11.0 MB 2.6 MB/s eta 0:00:01\n",
      "   ------------------------------------- -- 10.2/11.0 MB 2.6 MB/s eta 0:00:01\n",
      "   ---------------------------------------  10.7/11.0 MB 2.6 MB/s eta 0:00:01\n",
      "   ---------------------------------------- 11.0/11.0 MB 2.5 MB/s eta 0:00:00\n",
      "Downloading pytz-2025.2-py2.py3-none-any.whl (509 kB)\n",
      "Downloading tzdata-2025.2-py2.py3-none-any.whl (347 kB)\n",
      "Installing collected packages: pytz, tzdata, pandas\n",
      "\n",
      "   ---------------------------------------- 0/3 [pytz]\n",
      "   ------------- -------------------------- 1/3 [tzdata]\n",
      "   ------------- -------------------------- 1/3 [tzdata]\n",
      "   -------------------------- ------------- 2/3 [pandas]\n",
      "   -------------------------- ------------- 2/3 [pandas]\n",
      "   -------------------------- ------------- 2/3 [pandas]\n",
      "   -------------------------- ------------- 2/3 [pandas]\n",
      "   -------------------------- ------------- 2/3 [pandas]\n",
      "   -------------------------- ------------- 2/3 [pandas]\n",
      "   -------------------------- ------------- 2/3 [pandas]\n",
      "   -------------------------- ------------- 2/3 [pandas]\n",
      "   -------------------------- ------------- 2/3 [pandas]\n",
      "   -------------------------- ------------- 2/3 [pandas]\n",
      "   -------------------------- ------------- 2/3 [pandas]\n",
      "   -------------------------- ------------- 2/3 [pandas]\n",
      "   -------------------------- ------------- 2/3 [pandas]\n",
      "   -------------------------- ------------- 2/3 [pandas]\n",
      "   -------------------------- ------------- 2/3 [pandas]\n",
      "   -------------------------- ------------- 2/3 [pandas]\n",
      "   -------------------------- ------------- 2/3 [pandas]\n",
      "   -------------------------- ------------- 2/3 [pandas]\n",
      "   -------------------------- ------------- 2/3 [pandas]\n",
      "   -------------------------- ------------- 2/3 [pandas]\n",
      "   -------------------------- ------------- 2/3 [pandas]\n",
      "   -------------------------- ------------- 2/3 [pandas]\n",
      "   -------------------------- ------------- 2/3 [pandas]\n",
      "   -------------------------- ------------- 2/3 [pandas]\n",
      "   -------------------------- ------------- 2/3 [pandas]\n",
      "   -------------------------- ------------- 2/3 [pandas]\n",
      "   -------------------------- ------------- 2/3 [pandas]\n",
      "   -------------------------- ------------- 2/3 [pandas]\n",
      "   -------------------------- ------------- 2/3 [pandas]\n",
      "   -------------------------- ------------- 2/3 [pandas]\n",
      "   -------------------------- ------------- 2/3 [pandas]\n",
      "   -------------------------- ------------- 2/3 [pandas]\n",
      "   -------------------------- ------------- 2/3 [pandas]\n",
      "   -------------------------- ------------- 2/3 [pandas]\n",
      "   -------------------------- ------------- 2/3 [pandas]\n",
      "   -------------------------- ------------- 2/3 [pandas]\n",
      "   -------------------------- ------------- 2/3 [pandas]\n",
      "   -------------------------- ------------- 2/3 [pandas]\n",
      "   ---------------------------------------- 3/3 [pandas]\n",
      "\n",
      "Successfully installed pandas-2.3.0 pytz-2025.2 tzdata-2025.2\n",
      "Note: you may need to restart the kernel to use updated packages.\n"
     ]
    }
   ],
   "source": [
    "# Install\n",
    "%pip install pandas"
   ]
  },
  {
   "cell_type": "code",
   "execution_count": 6,
   "id": "5f030f7d",
   "metadata": {},
   "outputs": [
    {
     "name": "stdout",
     "output_type": "stream",
     "text": [
      "Pandas version: 2.3.0\n"
     ]
    }
   ],
   "source": [
    "# Import & Version\n",
    "import pandas as pd\n",
    "print(\"Pandas version:\", pd.__version__)"
   ]
  },
  {
   "cell_type": "code",
   "execution_count": 7,
   "id": "da4d5577",
   "metadata": {},
   "outputs": [
    {
     "name": "stdout",
     "output_type": "stream",
     "text": [
      "    Name  Score\n",
      "0   Ammu     85\n",
      "1  Rahul     92\n"
     ]
    }
   ],
   "source": [
    "# Create small DataFrame\n",
    "df = pd.DataFrame({\n",
    "    \"Name\": [\"Ammu\", \"Rahul\"],\n",
    "    \"Score\": [85, 92]\n",
    "})\n",
    "print(df)"
   ]
  },
  {
   "cell_type": "markdown",
   "id": "1e117315",
   "metadata": {},
   "source": [
    "Scikit learn"
   ]
  },
  {
   "cell_type": "code",
   "execution_count": 8,
   "id": "4806fa35",
   "metadata": {},
   "outputs": [
    {
     "name": "stdout",
     "output_type": "stream",
     "text": [
      "Defaulting to user installation because normal site-packages is not writeable\n",
      "Collecting scikit-learn\n",
      "  Downloading scikit_learn-1.7.0-cp313-cp313-win_amd64.whl.metadata (14 kB)\n",
      "Requirement already satisfied: numpy>=1.22.0 in c:\\users\\aksha\\appdata\\local\\packages\\pythonsoftwarefoundation.python.3.13_qbz5n2kfra8p0\\localcache\\local-packages\\python313\\site-packages (from scikit-learn) (2.2.6)\n",
      "Collecting scipy>=1.8.0 (from scikit-learn)\n",
      "  Downloading scipy-1.16.0-cp313-cp313-win_amd64.whl.metadata (60 kB)\n",
      "Collecting joblib>=1.2.0 (from scikit-learn)\n",
      "  Downloading joblib-1.5.1-py3-none-any.whl.metadata (5.6 kB)\n",
      "Collecting threadpoolctl>=3.1.0 (from scikit-learn)\n",
      "  Downloading threadpoolctl-3.6.0-py3-none-any.whl.metadata (13 kB)\n",
      "Downloading scikit_learn-1.7.0-cp313-cp313-win_amd64.whl (10.7 MB)\n",
      "   ---------------------------------------- 0.0/10.7 MB ? eta -:--:--\n",
      "   ---------------------------------------- 0.0/10.7 MB ? eta -:--:--\n",
      "    --------------------------------------- 0.3/10.7 MB ? eta -:--:--\n",
      "   - -------------------------------------- 0.5/10.7 MB 1.3 MB/s eta 0:00:08\n",
      "   --- ------------------------------------ 1.0/10.7 MB 1.6 MB/s eta 0:00:06\n",
      "   ----- ---------------------------------- 1.6/10.7 MB 1.9 MB/s eta 0:00:05\n",
      "   -------- ------------------------------- 2.4/10.7 MB 2.3 MB/s eta 0:00:04\n",
      "   ------------ --------------------------- 3.4/10.7 MB 2.8 MB/s eta 0:00:03\n",
      "   --------------- ------------------------ 4.2/10.7 MB 2.8 MB/s eta 0:00:03\n",
      "   ---------------- ----------------------- 4.5/10.7 MB 2.8 MB/s eta 0:00:03\n",
      "   ----------------- ---------------------- 4.7/10.7 MB 2.6 MB/s eta 0:00:03\n",
      "   ------------------ --------------------- 5.0/10.7 MB 2.5 MB/s eta 0:00:03\n",
      "   ------------------- -------------------- 5.2/10.7 MB 2.4 MB/s eta 0:00:03\n",
      "   -------------------- ------------------- 5.5/10.7 MB 2.3 MB/s eta 0:00:03\n",
      "   --------------------- ------------------ 5.8/10.7 MB 2.2 MB/s eta 0:00:03\n",
      "   ----------------------- ---------------- 6.3/10.7 MB 2.1 MB/s eta 0:00:03\n",
      "   ------------------------ --------------- 6.6/10.7 MB 2.1 MB/s eta 0:00:02\n",
      "   -------------------------- ------------- 7.1/10.7 MB 2.1 MB/s eta 0:00:02\n",
      "   --------------------------- ------------ 7.3/10.7 MB 2.1 MB/s eta 0:00:02\n",
      "   ----------------------------- ---------- 7.9/10.7 MB 2.1 MB/s eta 0:00:02\n",
      "   ------------------------------ --------- 8.1/10.7 MB 2.1 MB/s eta 0:00:02\n",
      "   -------------------------------- ------- 8.7/10.7 MB 2.1 MB/s eta 0:00:01\n",
      "   ---------------------------------- ----- 9.2/10.7 MB 2.1 MB/s eta 0:00:01\n",
      "   ------------------------------------ --- 9.7/10.7 MB 2.1 MB/s eta 0:00:01\n",
      "   ---------------------------------------  10.5/10.7 MB 2.1 MB/s eta 0:00:01\n",
      "   ---------------------------------------- 10.7/10.7 MB 2.1 MB/s eta 0:00:00\n",
      "Downloading joblib-1.5.1-py3-none-any.whl (307 kB)\n",
      "Downloading scipy-1.16.0-cp313-cp313-win_amd64.whl (38.4 MB)\n",
      "   ---------------------------------------- 0.0/38.4 MB ? eta -:--:--\n",
      "    --------------------------------------- 0.5/38.4 MB 2.9 MB/s eta 0:00:14\n",
      "   - -------------------------------------- 1.0/38.4 MB 3.0 MB/s eta 0:00:13\n",
      "   - -------------------------------------- 1.8/38.4 MB 3.0 MB/s eta 0:00:13\n",
      "   -- ------------------------------------- 2.4/38.4 MB 3.0 MB/s eta 0:00:12\n",
      "   --- ------------------------------------ 3.1/38.4 MB 3.0 MB/s eta 0:00:12\n",
      "   --- ------------------------------------ 3.7/38.4 MB 3.1 MB/s eta 0:00:12\n",
      "   ---- ----------------------------------- 3.9/38.4 MB 3.0 MB/s eta 0:00:12\n",
      "   ---- ----------------------------------- 4.5/38.4 MB 2.7 MB/s eta 0:00:13\n",
      "   ----- ---------------------------------- 5.0/38.4 MB 2.6 MB/s eta 0:00:13\n",
      "   ----- ---------------------------------- 5.2/38.4 MB 2.6 MB/s eta 0:00:13\n",
      "   ------ --------------------------------- 5.8/38.4 MB 2.5 MB/s eta 0:00:13\n",
      "   ------ --------------------------------- 6.3/38.4 MB 2.5 MB/s eta 0:00:13\n",
      "   ------- -------------------------------- 6.8/38.4 MB 2.5 MB/s eta 0:00:13\n",
      "   ------- -------------------------------- 7.3/38.4 MB 2.5 MB/s eta 0:00:13\n",
      "   -------- ------------------------------- 7.9/38.4 MB 2.5 MB/s eta 0:00:13\n",
      "   -------- ------------------------------- 8.4/38.4 MB 2.5 MB/s eta 0:00:12\n",
      "   --------- ------------------------------ 8.9/38.4 MB 2.5 MB/s eta 0:00:12\n",
      "   ---------- ----------------------------- 9.7/38.4 MB 2.6 MB/s eta 0:00:12\n",
      "   ---------- ----------------------------- 10.2/38.4 MB 2.6 MB/s eta 0:00:11\n",
      "   ----------- ---------------------------- 11.0/38.4 MB 2.6 MB/s eta 0:00:11\n",
      "   ------------ --------------------------- 11.5/38.4 MB 2.6 MB/s eta 0:00:11\n",
      "   ------------ --------------------------- 11.8/38.4 MB 2.6 MB/s eta 0:00:11\n",
      "   ------------ --------------------------- 12.3/38.4 MB 2.5 MB/s eta 0:00:11\n",
      "   ------------- -------------------------- 12.6/38.4 MB 2.5 MB/s eta 0:00:11\n",
      "   ------------- -------------------------- 13.1/38.4 MB 2.5 MB/s eta 0:00:11\n",
      "   -------------- ------------------------- 13.6/38.4 MB 2.5 MB/s eta 0:00:10\n",
      "   -------------- ------------------------- 14.2/38.4 MB 2.5 MB/s eta 0:00:10\n",
      "   --------------- ------------------------ 14.7/38.4 MB 2.5 MB/s eta 0:00:10\n",
      "   --------------- ------------------------ 15.2/38.4 MB 2.5 MB/s eta 0:00:10\n",
      "   ---------------- ----------------------- 15.7/38.4 MB 2.5 MB/s eta 0:00:10\n",
      "   ---------------- ----------------------- 16.3/38.4 MB 2.5 MB/s eta 0:00:09\n",
      "   ----------------- ---------------------- 16.8/38.4 MB 2.5 MB/s eta 0:00:09\n",
      "   ------------------ --------------------- 17.6/38.4 MB 2.5 MB/s eta 0:00:09\n",
      "   ------------------ --------------------- 18.1/38.4 MB 2.5 MB/s eta 0:00:09\n",
      "   ------------------- -------------------- 18.9/38.4 MB 2.6 MB/s eta 0:00:08\n",
      "   -------------------- ------------------- 19.7/38.4 MB 2.6 MB/s eta 0:00:08\n",
      "   -------------------- ------------------- 19.9/38.4 MB 2.6 MB/s eta 0:00:08\n",
      "   --------------------- ------------------ 20.4/38.4 MB 2.5 MB/s eta 0:00:08\n",
      "   --------------------- ------------------ 20.7/38.4 MB 2.5 MB/s eta 0:00:07\n",
      "   ---------------------- ----------------- 21.2/38.4 MB 2.5 MB/s eta 0:00:07\n",
      "   ---------------------- ----------------- 21.8/38.4 MB 2.5 MB/s eta 0:00:07\n",
      "   ---------------------- ----------------- 22.0/38.4 MB 2.5 MB/s eta 0:00:07\n",
      "   ----------------------- ---------------- 22.5/38.4 MB 2.5 MB/s eta 0:00:07\n",
      "   ------------------------ --------------- 23.1/38.4 MB 2.5 MB/s eta 0:00:07\n",
      "   ------------------------ --------------- 23.9/38.4 MB 2.5 MB/s eta 0:00:06\n",
      "   ------------------------- -------------- 24.4/38.4 MB 2.5 MB/s eta 0:00:06\n",
      "   ------------------------- -------------- 24.9/38.4 MB 2.5 MB/s eta 0:00:06\n",
      "   -------------------------- ------------- 25.7/38.4 MB 2.5 MB/s eta 0:00:06\n",
      "   --------------------------- ------------ 26.2/38.4 MB 2.5 MB/s eta 0:00:05\n",
      "   ---------------------------- ----------- 27.0/38.4 MB 2.5 MB/s eta 0:00:05\n",
      "   ---------------------------- ----------- 27.3/38.4 MB 2.5 MB/s eta 0:00:05\n",
      "   ---------------------------- ----------- 27.5/38.4 MB 2.5 MB/s eta 0:00:05\n",
      "   ---------------------------- ----------- 27.8/38.4 MB 2.5 MB/s eta 0:00:05\n",
      "   ----------------------------- ---------- 28.0/38.4 MB 2.5 MB/s eta 0:00:05\n",
      "   ----------------------------- ---------- 28.3/38.4 MB 2.5 MB/s eta 0:00:05\n",
      "   ------------------------------ --------- 28.8/38.4 MB 2.4 MB/s eta 0:00:04\n",
      "   ------------------------------ --------- 29.1/38.4 MB 2.4 MB/s eta 0:00:04\n",
      "   ------------------------------ --------- 29.6/38.4 MB 2.4 MB/s eta 0:00:04\n",
      "   ------------------------------- -------- 29.9/38.4 MB 2.4 MB/s eta 0:00:04\n",
      "   ------------------------------- -------- 30.4/38.4 MB 2.4 MB/s eta 0:00:04\n",
      "   -------------------------------- ------- 30.9/38.4 MB 2.4 MB/s eta 0:00:04\n",
      "   -------------------------------- ------- 31.2/38.4 MB 2.4 MB/s eta 0:00:03\n",
      "   --------------------------------- ------ 31.7/38.4 MB 2.4 MB/s eta 0:00:03\n",
      "   --------------------------------- ------ 32.2/38.4 MB 2.4 MB/s eta 0:00:03\n",
      "   ---------------------------------- ----- 32.8/38.4 MB 2.4 MB/s eta 0:00:03\n",
      "   ---------------------------------- ----- 33.3/38.4 MB 2.4 MB/s eta 0:00:03\n",
      "   ----------------------------------- ---- 33.8/38.4 MB 2.4 MB/s eta 0:00:02\n",
      "   ----------------------------------- ---- 34.3/38.4 MB 2.4 MB/s eta 0:00:02\n",
      "   ------------------------------------ --- 34.9/38.4 MB 2.4 MB/s eta 0:00:02\n",
      "   ------------------------------------ --- 35.4/38.4 MB 2.4 MB/s eta 0:00:02\n",
      "   ------------------------------------- -- 35.9/38.4 MB 2.4 MB/s eta 0:00:02\n",
      "   -------------------------------------- - 36.7/38.4 MB 2.4 MB/s eta 0:00:01\n",
      "   -------------------------------------- - 37.2/38.4 MB 2.4 MB/s eta 0:00:01\n",
      "   ---------------------------------------  38.0/38.4 MB 2.4 MB/s eta 0:00:01\n",
      "   ---------------------------------------- 38.4/38.4 MB 2.4 MB/s eta 0:00:00\n",
      "Downloading threadpoolctl-3.6.0-py3-none-any.whl (18 kB)\n",
      "Installing collected packages: threadpoolctl, scipy, joblib, scikit-learn\n",
      "\n",
      "   ---------- ----------------------------- 1/4 [scipy]\n",
      "   ---------- ----------------------------- 1/4 [scipy]\n",
      "   ---------- ----------------------------- 1/4 [scipy]\n",
      "   ---------- ----------------------------- 1/4 [scipy]\n",
      "   ---------- ----------------------------- 1/4 [scipy]\n",
      "   ---------- ----------------------------- 1/4 [scipy]\n",
      "   ---------- ----------------------------- 1/4 [scipy]\n",
      "   ---------- ----------------------------- 1/4 [scipy]\n",
      "   ---------- ----------------------------- 1/4 [scipy]\n",
      "   ---------- ----------------------------- 1/4 [scipy]\n",
      "   ---------- ----------------------------- 1/4 [scipy]\n",
      "   ---------- ----------------------------- 1/4 [scipy]\n",
      "   ---------- ----------------------------- 1/4 [scipy]\n",
      "   ---------- ----------------------------- 1/4 [scipy]\n",
      "   ---------- ----------------------------- 1/4 [scipy]\n",
      "   ---------- ----------------------------- 1/4 [scipy]\n",
      "   ---------- ----------------------------- 1/4 [scipy]\n",
      "   ---------- ----------------------------- 1/4 [scipy]\n",
      "   ---------- ----------------------------- 1/4 [scipy]\n",
      "   ---------- ----------------------------- 1/4 [scipy]\n",
      "   ---------- ----------------------------- 1/4 [scipy]\n",
      "   ---------- ----------------------------- 1/4 [scipy]\n",
      "   ---------- ----------------------------- 1/4 [scipy]\n",
      "   ---------- ----------------------------- 1/4 [scipy]\n",
      "   ---------- ----------------------------- 1/4 [scipy]\n",
      "   ---------- ----------------------------- 1/4 [scipy]\n",
      "   ---------- ----------------------------- 1/4 [scipy]\n",
      "   ---------- ----------------------------- 1/4 [scipy]\n",
      "   ---------- ----------------------------- 1/4 [scipy]\n",
      "   ---------- ----------------------------- 1/4 [scipy]\n",
      "   ---------- ----------------------------- 1/4 [scipy]\n",
      "   ---------- ----------------------------- 1/4 [scipy]\n",
      "   -------------------- ------------------- 2/4 [joblib]\n",
      "   -------------------- ------------------- 2/4 [joblib]\n",
      "   -------------------- ------------------- 2/4 [joblib]\n",
      "   ------------------------------ --------- 3/4 [scikit-learn]\n",
      "   ------------------------------ --------- 3/4 [scikit-learn]\n",
      "   ------------------------------ --------- 3/4 [scikit-learn]\n",
      "   ------------------------------ --------- 3/4 [scikit-learn]\n",
      "   ------------------------------ --------- 3/4 [scikit-learn]\n",
      "   ------------------------------ --------- 3/4 [scikit-learn]\n",
      "   ------------------------------ --------- 3/4 [scikit-learn]\n",
      "   ------------------------------ --------- 3/4 [scikit-learn]\n",
      "   ------------------------------ --------- 3/4 [scikit-learn]\n",
      "   ------------------------------ --------- 3/4 [scikit-learn]\n",
      "   ------------------------------ --------- 3/4 [scikit-learn]\n",
      "   ------------------------------ --------- 3/4 [scikit-learn]\n",
      "   ------------------------------ --------- 3/4 [scikit-learn]\n",
      "   ------------------------------ --------- 3/4 [scikit-learn]\n",
      "   ------------------------------ --------- 3/4 [scikit-learn]\n",
      "   ------------------------------ --------- 3/4 [scikit-learn]\n",
      "   ------------------------------ --------- 3/4 [scikit-learn]\n",
      "   ------------------------------ --------- 3/4 [scikit-learn]\n",
      "   ------------------------------ --------- 3/4 [scikit-learn]\n",
      "   ------------------------------ --------- 3/4 [scikit-learn]\n",
      "   ---------------------------------------- 4/4 [scikit-learn]\n",
      "\n",
      "Successfully installed joblib-1.5.1 scikit-learn-1.7.0 scipy-1.16.0 threadpoolctl-3.6.0\n",
      "Note: you may need to restart the kernel to use updated packages.\n"
     ]
    }
   ],
   "source": [
    "# Install\n",
    "%pip install scikit-learn"
   ]
  },
  {
   "cell_type": "code",
   "execution_count": 9,
   "id": "0763f5d4",
   "metadata": {},
   "outputs": [
    {
     "name": "stdout",
     "output_type": "stream",
     "text": [
      "Scikit-learn version: 1.7.0\n"
     ]
    }
   ],
   "source": [
    "# Import & Version\n",
    "import sklearn\n",
    "print(\"Scikit-learn version:\", sklearn.__version__)"
   ]
  },
  {
   "cell_type": "code",
   "execution_count": 10,
   "id": "9e806a45",
   "metadata": {},
   "outputs": [
    {
     "name": "stdout",
     "output_type": "stream",
     "text": [
      "Train X: [[4], [3]]\n",
      "Test X: [[2], [1]]\n"
     ]
    }
   ],
   "source": [
    "# Use train_test_split\n",
    "from sklearn.model_selection import train_test_split\n",
    "\n",
    "X = [[1], [2], [3], [4]]\n",
    "y = [0, 1, 0, 1]\n",
    "\n",
    "X_train, X_test, y_train, y_test = train_test_split(X, y, test_size=0.5)\n",
    "print(\"Train X:\", X_train)\n",
    "print(\"Test X:\", X_test)"
   ]
  },
  {
   "cell_type": "markdown",
   "id": "2d74629c",
   "metadata": {},
   "source": [
    "Matplotlib"
   ]
  },
  {
   "cell_type": "code",
   "execution_count": 11,
   "id": "76426dc6",
   "metadata": {},
   "outputs": [
    {
     "name": "stdout",
     "output_type": "stream",
     "text": [
      "Defaulting to user installation because normal site-packages is not writeable\n",
      "Requirement already satisfied: matplotlib in c:\\users\\aksha\\appdata\\local\\packages\\pythonsoftwarefoundation.python.3.13_qbz5n2kfra8p0\\localcache\\local-packages\\python313\\site-packages (3.10.3)\n",
      "Requirement already satisfied: contourpy>=1.0.1 in c:\\users\\aksha\\appdata\\local\\packages\\pythonsoftwarefoundation.python.3.13_qbz5n2kfra8p0\\localcache\\local-packages\\python313\\site-packages (from matplotlib) (1.3.2)\n",
      "Requirement already satisfied: cycler>=0.10 in c:\\users\\aksha\\appdata\\local\\packages\\pythonsoftwarefoundation.python.3.13_qbz5n2kfra8p0\\localcache\\local-packages\\python313\\site-packages (from matplotlib) (0.12.1)\n",
      "Requirement already satisfied: fonttools>=4.22.0 in c:\\users\\aksha\\appdata\\local\\packages\\pythonsoftwarefoundation.python.3.13_qbz5n2kfra8p0\\localcache\\local-packages\\python313\\site-packages (from matplotlib) (4.58.0)\n",
      "Requirement already satisfied: kiwisolver>=1.3.1 in c:\\users\\aksha\\appdata\\local\\packages\\pythonsoftwarefoundation.python.3.13_qbz5n2kfra8p0\\localcache\\local-packages\\python313\\site-packages (from matplotlib) (1.4.8)\n",
      "Requirement already satisfied: numpy>=1.23 in c:\\users\\aksha\\appdata\\local\\packages\\pythonsoftwarefoundation.python.3.13_qbz5n2kfra8p0\\localcache\\local-packages\\python313\\site-packages (from matplotlib) (2.2.6)\n",
      "Requirement already satisfied: packaging>=20.0 in c:\\users\\aksha\\appdata\\local\\packages\\pythonsoftwarefoundation.python.3.13_qbz5n2kfra8p0\\localcache\\local-packages\\python313\\site-packages (from matplotlib) (25.0)\n",
      "Requirement already satisfied: pillow>=8 in c:\\users\\aksha\\appdata\\local\\packages\\pythonsoftwarefoundation.python.3.13_qbz5n2kfra8p0\\localcache\\local-packages\\python313\\site-packages (from matplotlib) (11.2.1)\n",
      "Requirement already satisfied: pyparsing>=2.3.1 in c:\\users\\aksha\\appdata\\local\\packages\\pythonsoftwarefoundation.python.3.13_qbz5n2kfra8p0\\localcache\\local-packages\\python313\\site-packages (from matplotlib) (3.2.3)\n",
      "Requirement already satisfied: python-dateutil>=2.7 in c:\\users\\aksha\\appdata\\local\\packages\\pythonsoftwarefoundation.python.3.13_qbz5n2kfra8p0\\localcache\\local-packages\\python313\\site-packages (from matplotlib) (2.9.0.post0)\n",
      "Requirement already satisfied: six>=1.5 in c:\\users\\aksha\\appdata\\local\\packages\\pythonsoftwarefoundation.python.3.13_qbz5n2kfra8p0\\localcache\\local-packages\\python313\\site-packages (from python-dateutil>=2.7->matplotlib) (1.17.0)\n",
      "Note: you may need to restart the kernel to use updated packages.\n"
     ]
    }
   ],
   "source": [
    "# Install\n",
    "%pip install matplotlib"
   ]
  },
  {
   "cell_type": "code",
   "execution_count": 12,
   "id": "3ed3d8d7",
   "metadata": {},
   "outputs": [
    {
     "name": "stdout",
     "output_type": "stream",
     "text": [
      "Matplotlib version: 3.10.3\n"
     ]
    }
   ],
   "source": [
    "# Import & Version\n",
    "import matplotlib\n",
    "import matplotlib.pyplot as plt\n",
    "print(\"Matplotlib version:\", matplotlib.__version__)"
   ]
  },
  {
   "cell_type": "code",
   "execution_count": 13,
   "id": "d37512f5",
   "metadata": {},
   "outputs": [
    {
     "data": {
      "image/png": "[encoded data removed]",
      "text/plain": [
       "<Figure size 640x480 with 1 Axes>"
      ]
     },
     "metadata": {},
     "output_type": "display_data"
    }
   ],
   "source": [
    "# Plot something small\n",
    "plt.plot([1, 2, 3], [3, 2, 1])\n",
    "plt.title(\"Simple Line Plot\")\n",
    "plt.show()"
   ]
  },
  {
   "cell_type": "markdown",
   "id": "48ec905c",
   "metadata": {},
   "source": [
    "Seaborn"
   ]
  },
  {
   "cell_type": "code",
   "execution_count": 14,
   "id": "a20a01c9",
   "metadata": {},
   "outputs": [
    {
     "name": "stdout",
     "output_type": "stream",
     "text": [
      "Defaulting to user installation because normal site-packages is not writeable\n",
      "Collecting seaborn\n",
      "  Downloading seaborn-0.13.2-py3-none-any.whl.metadata (5.4 kB)\n",
      "Requirement already satisfied: numpy!=1.24.0,>=1.20 in c:\\users\\aksha\\appdata\\local\\packages\\pythonsoftwarefoundation.python.3.13_qbz5n2kfra8p0\\localcache\\local-packages\\python313\\site-packages (from seaborn) (2.2.6)\n",
      "Requirement already satisfied: pandas>=1.2 in c:\\users\\aksha\\appdata\\local\\packages\\pythonsoftwarefoundation.python.3.13_qbz5n2kfra8p0\\localcache\\local-packages\\python313\\site-packages (from seaborn) (2.3.0)\n",
      "Requirement already satisfied: matplotlib!=3.6.1,>=3.4 in c:\\users\\aksha\\appdata\\local\\packages\\pythonsoftwarefoundation.python.3.13_qbz5n2kfra8p0\\localcache\\local-packages\\python313\\site-packages (from seaborn) (3.10.3)\n",
      "Requirement already satisfied: contourpy>=1.0.1 in c:\\users\\aksha\\appdata\\local\\packages\\pythonsoftwarefoundation.python.3.13_qbz5n2kfra8p0\\localcache\\local-packages\\python313\\site-packages (from matplotlib!=3.6.1,>=3.4->seaborn) (1.3.2)\n",
      "Requirement already satisfied: cycler>=0.10 in c:\\users\\aksha\\appdata\\local\\packages\\pythonsoftwarefoundation.python.3.13_qbz5n2kfra8p0\\localcache\\local-packages\\python313\\site-packages (from matplotlib!=3.6.1,>=3.4->seaborn) (0.12.1)\n",
      "Requirement already satisfied: fonttools>=4.22.0 in c:\\users\\aksha\\appdata\\local\\packages\\pythonsoftwarefoundation.python.3.13_qbz5n2kfra8p0\\localcache\\local-packages\\python313\\site-packages (from matplotlib!=3.6.1,>=3.4->seaborn) (4.58.0)\n",
      "Requirement already satisfied: kiwisolver>=1.3.1 in c:\\users\\aksha\\appdata\\local\\packages\\pythonsoftwarefoundation.python.3.13_qbz5n2kfra8p0\\localcache\\local-packages\\python313\\site-packages (from matplotlib!=3.6.1,>=3.4->seaborn) (1.4.8)\n",
      "Requirement already satisfied: packaging>=20.0 in c:\\users\\aksha\\appdata\\local\\packages\\pythonsoftwarefoundation.python.3.13_qbz5n2kfra8p0\\localcache\\local-packages\\python313\\site-packages (from matplotlib!=3.6.1,>=3.4->seaborn) (25.0)\n",
      "Requirement already satisfied: pillow>=8 in c:\\users\\aksha\\appdata\\local\\packages\\pythonsoftwarefoundation.python.3.13_qbz5n2kfra8p0\\localcache\\local-packages\\python313\\site-packages (from matplotlib!=3.6.1,>=3.4->seaborn) (11.2.1)\n",
      "Requirement already satisfied: pyparsing>=2.3.1 in c:\\users\\aksha\\appdata\\local\\packages\\pythonsoftwarefoundation.python.3.13_qbz5n2kfra8p0\\localcache\\local-packages\\python313\\site-packages (from matplotlib!=3.6.1,>=3.4->seaborn) (3.2.3)\n",
      "Requirement already satisfied: python-dateutil>=2.7 in c:\\users\\aksha\\appdata\\local\\packages\\pythonsoftwarefoundation.python.3.13_qbz5n2kfra8p0\\localcache\\local-packages\\python313\\site-packages (from matplotlib!=3.6.1,>=3.4->seaborn) (2.9.0.post0)\n",
      "Requirement already satisfied: pytz>=2020.1 in c:\\users\\aksha\\appdata\\local\\packages\\pythonsoftwarefoundation.python.3.13_qbz5n2kfra8p0\\localcache\\local-packages\\python313\\site-packages (from pandas>=1.2->seaborn) (2025.2)\n",
      "Requirement already satisfied: tzdata>=2022.7 in c:\\users\\aksha\\appdata\\local\\packages\\pythonsoftwarefoundation.python.3.13_qbz5n2kfra8p0\\localcache\\local-packages\\python313\\site-packages (from pandas>=1.2->seaborn) (2025.2)\n",
      "Requirement already satisfied: six>=1.5 in c:\\users\\aksha\\appdata\\local\\packages\\pythonsoftwarefoundation.python.3.13_qbz5n2kfra8p0\\localcache\\local-packages\\python313\\site-packages (from python-dateutil>=2.7->matplotlib!=3.6.1,>=3.4->seaborn) (1.17.0)\n",
      "Downloading seaborn-0.13.2-py3-none-any.whl (294 kB)\n",
      "Installing collected packages: seaborn\n",
      "Successfully installed seaborn-0.13.2\n",
      "Note: you may need to restart the kernel to use updated packages.\n"
     ]
    }
   ],
   "source": [
    "# Install\n",
    "%pip install seaborn"
   ]
  },
  {
   "cell_type": "code",
   "execution_count": 15,
   "id": "a810118c",
   "metadata": {},
   "outputs": [
    {
     "name": "stdout",
     "output_type": "stream",
     "text": [
      "Seaborn version: 0.13.2\n"
     ]
    }
   ],
   "source": [
    "# Import & Version\n",
    "import seaborn as sns\n",
    "print(\"Seaborn version:\", sns.__version__)"
   ]
  },
  {
   "cell_type": "code",
   "execution_count": 16,
   "id": "c544dc75",
   "metadata": {},
   "outputs": [
    {
     "data": {
      "image/png": "[encoded data removed]",
      "text/plain": [
       "<Figure size 640x480 with 1 Axes>"
      ]
     },
     "metadata": {},
     "output_type": "display_data"
    }
   ],
   "source": [
    "# Draw simple barplot\n",
    "sns.barplot(x=[\"A\", \"B\", \"C\"], y=[5, 7, 6])\n",
    "plt.title(\"Sample Bar Plot\")\n",
    "plt.show()"
   ]
  },
  {
   "cell_type": "markdown",
   "id": "02ffead1",
   "metadata": {},
   "source": [
    "Tensorflow"
   ]
  },
  {
   "cell_type": "code",
   "execution_count": 1,
   "id": "43a1ee64",
   "metadata": {},
   "outputs": [
    {
     "name": "stdout",
     "output_type": "stream",
     "text": [
      "Note: you may need to restart the kernel to use updated packages.\n"
     ]
    },
    {
     "name": "stderr",
     "output_type": "stream",
     "text": [
      "ERROR: Could not find a version that satisfies the requirement tensorflow==2.13 (from versions: none)\n",
      "\n",
      "[notice] A new release of pip is available: 25.0.1 -> 25.1.1\n",
      "[notice] To update, run: python.exe -m pip install --upgrade pip\n",
      "ERROR: No matching distribution found for tensorflow==2.13\n"
     ]
    }
   ],
   "source": [
    "# Install\n",
    "%pip install tensorflow==2.13"
   ]
  },
  {
   "cell_type": "code",
   "execution_count": 4,
   "id": "5d42ae6e",
   "metadata": {},
   "outputs": [
    {
     "ename": "ModuleNotFoundError",
     "evalue": "No module named 'tensorflow'",
     "output_type": "error",
     "traceback": [
      "\u001b[31m---------------------------------------------------------------------------\u001b[39m",
      "\u001b[31mModuleNotFoundError\u001b[39m                       Traceback (most recent call last)",
      "\u001b[36mCell\u001b[39m\u001b[36m \u001b[39m\u001b[32mIn[4]\u001b[39m\u001b[32m, line 2\u001b[39m\n\u001b[32m      1\u001b[39m \u001b[38;5;66;03m# Version\u001b[39;00m\n\u001b[32m----> \u001b[39m\u001b[32m2\u001b[39m \u001b[38;5;28;01mimport\u001b[39;00m\u001b[38;5;250m \u001b[39m\u001b[34;01mtensorflow\u001b[39;00m\u001b[38;5;250m \u001b[39m\u001b[38;5;28;01mas\u001b[39;00m\u001b[38;5;250m \u001b[39m\u001b[34;01mtf\u001b[39;00m\n\u001b[32m      3\u001b[39m \u001b[38;5;28mprint\u001b[39m(\u001b[33m\"\u001b[39m\u001b[33mTensorFlow version:\u001b[39m\u001b[33m\"\u001b[39m, tf.__version__)\n",
      "\u001b[31mModuleNotFoundError\u001b[39m: No module named 'tensorflow'"
     ]
    }
   ],
   "source": [
    "# Version\n",
    "import tensorflow as tf\n",
    "print(\"TensorFlow version:\", tf.__version__)"
   ]
  },
  {
   "cell_type": "code",
   "execution_count": null,
   "id": "fcc4a737",
   "metadata": {},
   "outputs": [],
   "source": [
    "# Basic Operation\n",
    "a = tf.constant(10)\n",
    "b = tf.constant(20)\n",
    "print(\"Sum:\", tf.add(a, b))"
   ]
  },
  {
   "cell_type": "markdown",
   "id": "8b50b23d",
   "metadata": {},
   "source": [
    "Keras"
   ]
  },
  {
   "cell_type": "code",
   "execution_count": null,
   "id": "26deded3",
   "metadata": {},
   "outputs": [],
   "source": [
    "# Import from TensorFlow\n",
    "from tensorflow import keras\n",
    "print(\"Keras version (from TensorFlow):\", keras.__version__)"
   ]
  },
  {
   "cell_type": "code",
   "execution_count": null,
   "id": "fd87acc6",
   "metadata": {},
   "outputs": [],
   "source": [
    "# Build a simple model with 1 layer\n",
    "model = keras.Sequential([\n",
    "    keras.layers.Dense(1, input_shape=(1,))\n",
    "])\n",
    "model.summary()"
   ]
  },
  {
   "cell_type": "code",
   "execution_count": null,
   "id": "01538baa",
   "metadata": {},
   "outputs": [],
   "source": []
  }
 ],
 "metadata": {
  "kernelspec": {
   "display_name": "Python 3",
   "language": "python",
   "name": "python3"
  },
  "language_info": {
   "codemirror_mode": {
    "name": "ipython",
    "version": 3
   },
   "file_extension": ".py",
   "mimetype": "text/x-python",
   "name": "python",
   "nbconvert_exporter": "python",
   "pygments_lexer": "ipython3",
   "version": "3.13.3"
  }
 },
 "nbformat": 4,
 "nbformat_minor": 5
}
